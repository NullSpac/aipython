{
  "nbformat": 4,
  "nbformat_minor": 0,
  "metadata": {
    "colab": {
      "provenance": [],
      "authorship_tag": "ABX9TyMrtvXEPQu/ZwYiYxTzcQKx",
      "include_colab_link": true
    },
    "kernelspec": {
      "name": "python3",
      "display_name": "Python 3"
    },
    "language_info": {
      "name": "python"
    }
  },
  "cells": [
    {
      "cell_type": "markdown",
      "metadata": {
        "id": "view-in-github",
        "colab_type": "text"
      },
      "source": [
        "<a href=\"https://colab.research.google.com/github/NullSpac/aipython1/blob/main/240104.ipynb\" target=\"_parent\"><img src=\"https://colab.research.google.com/assets/colab-badge.svg\" alt=\"Open In Colab\"/></a>"
      ]
    },
    {
      "cell_type": "code",
      "execution_count": 8,
      "metadata": {
        "colab": {
          "base_uri": "https://localhost:8080/"
        },
        "id": "3oDFH5E0cAnO",
        "outputId": "b1cfeb0f-dd87-4556-bb03-72801a85b75f"
      },
      "outputs": [
        {
          "output_type": "stream",
          "name": "stdout",
          "text": [
            "학생의 점수를 입력하세요. 10\n",
            "학생의 점수를 입력하세요. 20\n",
            "학생의 점수를 입력하세요. 30\n",
            "학생의 점수를 입력하세요. \n",
            "입력 데이터 출력: [10.0, 20.0, 30.0]\n",
            "합계: 60.0\n",
            "인원수: 3\n",
            "평균: 20.0\n"
          ]
        }
      ],
      "source": [
        "score = []\n",
        "while True:\n",
        "  x = input('학생의 점수를 입력하세요. ')\n",
        "  if x.isdigit():\n",
        "    score.append(float(x))\n",
        "  else:\n",
        "    break\n",
        "\n",
        "print('입력 데이터 출력:', score)\n",
        "print('합계:', sum(score))\n",
        "print('인원수:', len(score))\n",
        "print('평균:', sum(score) / len(score))\n",
        "\n",
        "\n",
        "\n",
        "\n",
        "\n",
        "\n"
      ]
    }
  ]
}