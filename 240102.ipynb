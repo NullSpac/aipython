{
  "nbformat": 4,
  "nbformat_minor": 0,
  "metadata": {
    "colab": {
      "provenance": [],
      "authorship_tag": "ABX9TyNLmsjwLHhBq/95iXo3j/IS",
      "include_colab_link": true
    },
    "kernelspec": {
      "name": "python3",
      "display_name": "Python 3"
    },
    "language_info": {
      "name": "python"
    }
  },
  "cells": [
    {
      "cell_type": "markdown",
      "metadata": {
        "id": "view-in-github",
        "colab_type": "text"
      },
      "source": [
        "<a href=\"https://colab.research.google.com/github/NullSpac/aipython1/blob/main/240102.ipynb\" target=\"_parent\"><img src=\"https://colab.research.google.com/assets/colab-badge.svg\" alt=\"Open In Colab\"/></a>"
      ]
    },
    {
      "cell_type": "code",
      "source": [
        "# 하나의 변수를 활용하는 코드입니다.\n",
        "lab = 105\n",
        "print('우리가 수업하는 실습실:')\n",
        "print(lab)"
      ],
      "metadata": {
        "id": "WuB8b6VJDFgH"
      },
      "execution_count": null,
      "outputs": []
    },
    {
      "cell_type": "code",
      "source": [
        "# 하나의 변수를 활용하는 코드입니다.\n",
        "lab = 105\n",
        "print('우리가 수업하는 실습실:', lab)"
      ],
      "metadata": {
        "id": "D2t6I6DQDi3k"
      },
      "execution_count": null,
      "outputs": []
    },
    {
      "cell_type": "code",
      "source": [
        "# 변수 두 개를 생성하고 값을 할당\n",
        "my_id = 20150001\n",
        "grade = 1\n",
        "# 두 개의 변수에 할당된 값을 출력\n",
        "print('나의 학번: ')\n",
        "print(my_id)\n",
        "print('학년: ')\n",
        "print(grade)"
      ],
      "metadata": {
        "id": "UprNqZ0PDvth"
      },
      "execution_count": null,
      "outputs": []
    },
    {
      "cell_type": "code",
      "source": [
        "# 변수에 값을 할당하고 출력하는 예제입니다.\n",
        "# dollars 변수에 값을 할당해봅시다.\n",
        "dollars = 2.75\n",
        "print('I have', dollars, 'in my account.')\n",
        "# dollars 변수에 새로운 값을 할당해봅시다.\n",
        "dollars = 99.95\n",
        "print('But now I have', dollars, 'in my account!')"
      ],
      "metadata": {
        "id": "2CclqhFxDvkK"
      },
      "execution_count": null,
      "outputs": []
    },
    {
      "cell_type": "code",
      "source": [
        "# 두 개의 변수를 생성하고 문자열을 할당합니다.\n",
        "department = '국어국문학과'\n",
        "name = '홍길동'\n",
        "# 각 변수에 할당된 문자열 값을 출력해보자.\n",
        "print(department, name)"
      ],
      "metadata": {
        "id": "6OZQlePBE8ZG"
      },
      "execution_count": null,
      "outputs": []
    },
    {
      "cell_type": "code",
      "source": [
        "# 학과명을 입력받습니다.\n",
        "department = input('학과명: ')\n",
        "# 여러분의 이름을 입력받습니다.\n",
        "name = input('성명: ')\n",
        "# 두 변수의 값을 출력합니다.\n",
        "print('안녕하세요', department, name)"
      ],
      "metadata": {
        "id": "UIIpNjYqDvJF"
      },
      "execution_count": null,
      "outputs": []
    },
    {
      "cell_type": "code",
      "source": [
        "# 여러분의 이름, 나이, 통학시간 정보를 입력받습니다.\n",
        "name = input('당신의 이름은 무엇입니까? ')\n",
        "age = int(input('나이는 어떻게 되시나요? '))\n",
        "attending_time = float(input('통학시간은 얼마나 걸립니까?'))\n",
        "# 변수에 입력된 데이터를 출력해봅시다.\n",
        "print('입력 정보는 다음과 같습니다.')\n",
        "print('이름:', name)\n",
        "print('나이:', age)\n",
        "print('통학시간:', attending_time)\n"
      ],
      "metadata": {
        "id": "Qq_32c2aFS63"
      },
      "execution_count": null,
      "outputs": []
    },
    {
      "cell_type": "code",
      "source": [
        "# salary 변수에 급여를 할당합니다.\n",
        "salary = 2500.0\n",
        "# bonus 변수에 보너스를 할당합니다.\n",
        "bonus = 1200.0\n",
        "# 급여와 보너스를 더하여 총 급여를 구해봅니다.\n",
        "# 총 급여를 pay 변수에 할당합니다.\n",
        "pay = salary + bonus\n",
        "# 총 급여를 출력합니다.\n",
        "print('총 급여:', pay)"
      ],
      "metadata": {
        "id": "GF8Gr3d3FS3c"
      },
      "execution_count": null,
      "outputs": []
    },
    {
      "cell_type": "code",
      "source": [
        "# 본 예제에서는 원가에 할인율을 적용하여 할인가격을 계산해보자.\n",
        "\n",
        "# original_price 변수에 원가를 입력받는다.\n",
        "original_price = float(input('제품의 원가를 입력해주세요: '))\n",
        "# 원가에 할인율 20%를 적용하여 할인가를 계산하여 discount 변수에 할당한다.\n",
        "discount = original_price * 0.2\n",
        "sale_price = original_price - discount\n",
        "print('할인가격:', sale_price)"
      ],
      "metadata": {
        "id": "L8gjNbiZFS08"
      },
      "execution_count": null,
      "outputs": []
    },
    {
      "cell_type": "code",
      "source": [
        "test1 = float(input('첫 번째 과목 점수를 입력해주세요:'))\n",
        "test2 = float(input('두 번째 과목 점수를 입력해주세요:'))\n",
        "test3 = float(input('세 번째 과목 점수를 입력해주세요:'))\n",
        "\n",
        "average = (test1 + test2 + test3) / 3.0\n",
        "\n",
        "print('3과목의 평균 점수:', average)"
      ],
      "metadata": {
        "id": "jfRONFYzFSya"
      },
      "execution_count": null,
      "outputs": []
    },
    {
      "cell_type": "code",
      "source": [
        "total_seconds = float(input('시간 값을 초 단위로 입력해주세요:'))\n",
        "hours = total_seconds // 3600\n",
        "minutes = (total_seconds // 60) % 60\n",
        "seconds = total_seconds % 60\n",
        "\n",
        "print('시 분 초는 다음과 같습니다.')\n",
        "print('시:', hours)\n",
        "print('분:', minutes)\n",
        "print('초:', seconds)"
      ],
      "metadata": {
        "id": "CTICtt4HFSv9"
      },
      "execution_count": null,
      "outputs": []
    },
    {
      "cell_type": "code",
      "source": [
        "future_value = float(input('목표 금액을 입력해주세요: '))\n",
        "rate = float(input('연간 이율을 입력해주세요: '))\n",
        "years = int(input('저축기간을 연 단위로 입력해주세요:'))\n",
        "present_value = future_value / (1.0 + rate)**years\n",
        "print('적립금액:', present_value)"
      ],
      "metadata": {
        "id": "YveNGI6rFSta"
      },
      "execution_count": null,
      "outputs": []
    },
    {
      "cell_type": "code",
      "source": [
        "print('a', 'b', 'c')\n",
        "print('a','b', 'c', sep = '')\n",
        "print('a', 'b', 'c', sep = '***')"
      ],
      "metadata": {
        "id": "0W-yDzMiFSq5"
      },
      "execution_count": null,
      "outputs": []
    },
    {
      "cell_type": "code",
      "source": [
        "print('a')\n",
        "print('b')\n",
        "print('c', end = '')\n",
        "print('d', end = '')\n",
        "print('e', end = '***')\n",
        "print('f')"
      ],
      "metadata": {
        "id": "lCrPONIrFSoN"
      },
      "execution_count": null,
      "outputs": []
    },
    {
      "cell_type": "code",
      "source": [
        "amount_due = 5000.0\n",
        "monthly_payment = amount_due / 12.0\n",
        "print('월급여:', monthly_payment)"
      ],
      "metadata": {
        "id": "riUfzX6ZJ3dp"
      },
      "execution_count": null,
      "outputs": []
    },
    {
      "cell_type": "code",
      "source": [
        "amount_due = 5000.0\n",
        "monthly_payment = amount_due / 12\n",
        "print('월급여:', format(monthly_payment, '.2f'))"
      ],
      "metadata": {
        "colab": {
          "base_uri": "https://localhost:8080/"
        },
        "id": "5YzP1EXLK7-X",
        "outputId": "bdb37b27-ad7f-40e8-c28d-2e78d55f97a0"
      },
      "execution_count": 1,
      "outputs": [
        {
          "output_type": "stream",
          "name": "stdout",
          "text": [
            "월급여: 416.67\n"
          ]
        }
      ]
    },
    {
      "cell_type": "code",
      "source": [
        "monthly_pay = 5000.0\n",
        "annual_pay = monthly_pay * 12\n",
        "print('Your annual pay is $', format(annual_pay, '.2f'), sep = '')"
      ],
      "metadata": {
        "id": "nlFc5j4wJ3WF"
      },
      "execution_count": null,
      "outputs": []
    },
    {
      "cell_type": "code",
      "source": [],
      "metadata": {
        "id": "9P9Vws52KmlD"
      },
      "execution_count": null,
      "outputs": []
    },
    {
      "cell_type": "code",
      "source": [],
      "metadata": {
        "id": "TSYCIzWSKlKN"
      },
      "execution_count": null,
      "outputs": []
    },
    {
      "cell_type": "code",
      "source": [],
      "metadata": {
        "id": "gj6ZZM9_KlG2"
      },
      "execution_count": null,
      "outputs": []
    },
    {
      "cell_type": "code",
      "source": [],
      "metadata": {
        "id": "BgNzaI5IKlDa"
      },
      "execution_count": null,
      "outputs": []
    }
  ]
}