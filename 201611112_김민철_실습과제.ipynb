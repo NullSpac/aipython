{
  "nbformat": 4,
  "nbformat_minor": 0,
  "metadata": {
    "colab": {
      "provenance": []
    },
    "kernelspec": {
      "name": "python3",
      "display_name": "Python 3"
    },
    "language_info": {
      "name": "python"
    }
  },
  "cells": [
    {
      "cell_type": "code",
      "execution_count": null,
      "metadata": {
        "id": "jGjUnaD-A4Zk"
      },
      "outputs": [],
      "source": [
        "import numpy as np\n",
        "import pandas as pd\n",
        "import matplotlib.pyplot as plt\n",
        "import seaborn as sns\n"
      ]
    },
    {
      "cell_type": "code",
      "source": [
        "####### 1. 붓꽃 데이터 분석"
      ],
      "metadata": {
        "id": "R2NpZEZeBCA-"
      },
      "execution_count": null,
      "outputs": []
    },
    {
      "cell_type": "code",
      "source": [
        "#### 붓꽃 데이터 읽어와서 확인하기\n",
        "# iris_data = pd.read_csv('iris.csv')\n",
        "# iris_data.info()\n",
        "# iris_data.describe()\n",
        "# iris_data['species'].value_counts()"
      ],
      "metadata": {
        "id": "to8VTRWNBCCc"
      },
      "execution_count": null,
      "outputs": []
    },
    {
      "cell_type": "code",
      "source": [
        "#### 붓꽃 데이터 전처리\n",
        "# iris_data.isna()\n",
        "# print(iris_data)\n",
        "# iris_data[:].value_counts()\n",
        "# iris_data = iris_data.drop_duplicates()"
      ],
      "metadata": {
        "id": "el6JQl5TBCEU"
      },
      "execution_count": null,
      "outputs": []
    },
    {
      "cell_type": "code",
      "source": [
        "#### 붓꽃 데이터 그룹핑\n",
        "# iris_data.groupby('species').sum()\n",
        "# iris_data.groupby('species').mean()"
      ],
      "metadata": {
        "id": "gy2qB3F-BCHW"
      },
      "execution_count": null,
      "outputs": []
    },
    {
      "cell_type": "code",
      "source": [
        "\n",
        "#### 붓꽃 데이터 시각화\n",
        "##1. 막대 그래프 그리기\n",
        "## 1-(1)\n",
        "# plt.rc('font', family='Gulim')\n",
        "# plt.bar(x=iris_data[:], y=iris_data['sepal_length'])\n",
        "# plt.xlabel('Data')\n",
        "# plt.ylabel('꽃받침의 길이')\n",
        "# plt.title('꽃받침 길이 시각화')\n",
        "# plt.show()"
      ],
      "metadata": {
        "id": "JR_0s5HYBCJA"
      },
      "execution_count": null,
      "outputs": []
    },
    {
      "cell_type": "code",
      "source": [
        "## 1-(2)\n",
        "# sns.barplot(x=iris_data['species'], y=iris_data['sepal_length'])\n",
        "# plt.show()"
      ],
      "metadata": {
        "id": "VJzmp1VMBCK1"
      },
      "execution_count": null,
      "outputs": []
    },
    {
      "cell_type": "code",
      "source": [
        "##2. 히스토그램 그래프 그리기 ####\n",
        "# plt.hist(x=iris_data.)\n",
        "# plt.show()"
      ],
      "metadata": {
        "id": "Z7-lP5O7BCOC"
      },
      "execution_count": null,
      "outputs": []
    },
    {
      "cell_type": "code",
      "source": [
        "##3. 산점도 그래프 그리기\n",
        "# sns.scatterplot(x=iris_data['sepal_length'], y=iris_data['petal_length'], hue=iris_data['species'])\n",
        "# plt.show()\n"
      ],
      "metadata": {
        "id": "OVjt4oh2BCPz"
      },
      "execution_count": null,
      "outputs": []
    },
    {
      "cell_type": "code",
      "source": [
        "\n",
        "#### 타이타닉 데이터 분석\n",
        "## 타이타닉 데이터 읽어와서 확인하기\n",
        "# titanic_data = pd.read_csv('titanic.csv')\n",
        "# # titanic_data.info()\n",
        "# # titanic_data.describe()\n",
        "# titanic_data = titanic_data.sort_values(by='fare', ascending=False)\n",
        "# print(titanic_data['survived'].value_counts())"
      ],
      "metadata": {
        "id": "p5KutUmQBCS_"
      },
      "execution_count": null,
      "outputs": []
    },
    {
      "cell_type": "code",
      "source": [
        "\n",
        "## 타이타닉 데이터 전처리\n",
        "# titanic_data.isna()\n",
        "# titanic_data.drop('deck', axis=1, inplace=True)\n",
        "# print(titanic_data['embarked'].value_counts()) # 최빈값 = S\n",
        "# titanic_data['embarked'].replace('NaN', 'S', inplace=True)\n",
        "# print(titanic_data['embarked'])\n",
        "# print(titanic_data['age'].mean()) # 나이평균 = 30\n",
        "# titanic_data['age'].replace('NaN', 30, inplace=True)"
      ],
      "metadata": {
        "id": "Kcy9PCFwBCUv"
      },
      "execution_count": null,
      "outputs": []
    },
    {
      "cell_type": "code",
      "source": [
        "\n",
        "## 타이타닉 데이터 그룹핑\n",
        "# titanic_data.groupby('embarked')['pclass'].mean()\n",
        "# titanic_data.groupby('sex')['pclass'].mean()"
      ],
      "metadata": {
        "id": "7VA8Apu2BCXt"
      },
      "execution_count": null,
      "outputs": []
    },
    {
      "cell_type": "code",
      "source": [
        "\n",
        "## 타이타닉 데이터 시각화\n",
        "##1. 막대 그래프 그리기\n",
        "# sns.countplot(x=titanic_data['pclass'], hue=titanic_data['survived'])\n",
        "# plt.show()"
      ],
      "metadata": {
        "id": "PF3S2gaFBCZn"
      },
      "execution_count": null,
      "outputs": []
    },
    {
      "cell_type": "code",
      "source": [
        "\n",
        "##2. 히트맵 그래프 그리기\n",
        "# print(titanic_data.columns)\n",
        "# titanic_data = titanic_data[['Unnamed: 0', 'survived', 'pclass', 'age', 'sibsp', 'parch', 'fare']]\n",
        "# # print(titanic_data)\n",
        "# df = titanic_data.corr()\n",
        "# sns.heatmap(data=df, annot=True, fmt='.2f', cmap='Blues')\n",
        "# plt.show()"
      ],
      "metadata": {
        "id": "Ib_JnRc2BCbQ"
      },
      "execution_count": null,
      "outputs": []
    },
    {
      "cell_type": "code",
      "source": [],
      "metadata": {
        "id": "fNmojsA4BCcq"
      },
      "execution_count": null,
      "outputs": []
    },
    {
      "cell_type": "code",
      "source": [],
      "metadata": {
        "id": "DU1bfuTjBCeH"
      },
      "execution_count": null,
      "outputs": []
    }
  ]
}